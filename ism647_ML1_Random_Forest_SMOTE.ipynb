{
 "cells": [
  {
   "cell_type": "markdown",
   "metadata": {},
   "source": [
    "## Import necessary libraries."
   ]
  },
  {
   "cell_type": "code",
   "execution_count": 1,
   "metadata": {},
   "outputs": [],
   "source": [
    "import pandas as pd\n",
    "import numpy as np\n",
    "import tensorflow as tf\n",
    "from tensorflow.keras import layers\n",
    "\n",
    "import matplotlib.pyplot as plt"
   ]
  },
  {
   "cell_type": "markdown",
   "metadata": {},
   "source": [
    "## Import Data\n",
    "<p>\n",
    "Import data from cleaned, encoded, and normalized data from earlier script.\n",
    "<p>\n",
    "Data dictionary in repo."
   ]
  },
  {
   "cell_type": "code",
   "execution_count": 2,
   "metadata": {},
   "outputs": [
    {
     "data": {
      "text/html": [
       "<div>\n",
       "<style scoped>\n",
       "    .dataframe tbody tr th:only-of-type {\n",
       "        vertical-align: middle;\n",
       "    }\n",
       "\n",
       "    .dataframe tbody tr th {\n",
       "        vertical-align: top;\n",
       "    }\n",
       "\n",
       "    .dataframe thead th {\n",
       "        text-align: right;\n",
       "    }\n",
       "</style>\n",
       "<table border=\"1\" class=\"dataframe\">\n",
       "  <thead>\n",
       "    <tr style=\"text-align: right;\">\n",
       "      <th></th>\n",
       "      <th>target</th>\n",
       "      <th>AcctAge</th>\n",
       "      <th>DDA</th>\n",
       "      <th>DDABal</th>\n",
       "      <th>Checks</th>\n",
       "      <th>DirDep</th>\n",
       "      <th>NSF</th>\n",
       "      <th>NSFAmt</th>\n",
       "      <th>Teller</th>\n",
       "      <th>Sav</th>\n",
       "      <th>...</th>\n",
       "      <th>CRScore</th>\n",
       "      <th>Moved</th>\n",
       "      <th>InArea</th>\n",
       "      <th>Dep</th>\n",
       "      <th>DepAmt</th>\n",
       "      <th>Inv</th>\n",
       "      <th>InvBal</th>\n",
       "      <th>Res_R</th>\n",
       "      <th>Res_S</th>\n",
       "      <th>Res_U</th>\n",
       "    </tr>\n",
       "  </thead>\n",
       "  <tbody>\n",
       "    <tr>\n",
       "      <th>0</th>\n",
       "      <td>1</td>\n",
       "      <td>0.000000</td>\n",
       "      <td>1</td>\n",
       "      <td>0.004282</td>\n",
       "      <td>0.000000</td>\n",
       "      <td>0</td>\n",
       "      <td>0</td>\n",
       "      <td>0.0</td>\n",
       "      <td>0.00</td>\n",
       "      <td>1</td>\n",
       "      <td>...</td>\n",
       "      <td>0.589404</td>\n",
       "      <td>0</td>\n",
       "      <td>1</td>\n",
       "      <td>0.071429</td>\n",
       "      <td>0.002413</td>\n",
       "      <td>0.0</td>\n",
       "      <td>0.000266</td>\n",
       "      <td>1</td>\n",
       "      <td>0</td>\n",
       "      <td>0</td>\n",
       "    </tr>\n",
       "    <tr>\n",
       "      <th>1</th>\n",
       "      <td>0</td>\n",
       "      <td>0.006536</td>\n",
       "      <td>1</td>\n",
       "      <td>0.009903</td>\n",
       "      <td>0.020408</td>\n",
       "      <td>1</td>\n",
       "      <td>0</td>\n",
       "      <td>0.0</td>\n",
       "      <td>0.00</td>\n",
       "      <td>0</td>\n",
       "      <td>...</td>\n",
       "      <td>0.516556</td>\n",
       "      <td>0</td>\n",
       "      <td>1</td>\n",
       "      <td>0.035714</td>\n",
       "      <td>0.000922</td>\n",
       "      <td>0.0</td>\n",
       "      <td>0.000266</td>\n",
       "      <td>1</td>\n",
       "      <td>0</td>\n",
       "      <td>0</td>\n",
       "    </tr>\n",
       "    <tr>\n",
       "      <th>2</th>\n",
       "      <td>1</td>\n",
       "      <td>0.062092</td>\n",
       "      <td>0</td>\n",
       "      <td>0.002778</td>\n",
       "      <td>0.000000</td>\n",
       "      <td>0</td>\n",
       "      <td>0</td>\n",
       "      <td>0.0</td>\n",
       "      <td>0.00</td>\n",
       "      <td>0</td>\n",
       "      <td>...</td>\n",
       "      <td>0.403974</td>\n",
       "      <td>0</td>\n",
       "      <td>1</td>\n",
       "      <td>0.000000</td>\n",
       "      <td>0.000000</td>\n",
       "      <td>0.0</td>\n",
       "      <td>0.000266</td>\n",
       "      <td>0</td>\n",
       "      <td>1</td>\n",
       "      <td>0</td>\n",
       "    </tr>\n",
       "    <tr>\n",
       "      <th>3</th>\n",
       "      <td>0</td>\n",
       "      <td>0.003268</td>\n",
       "      <td>1</td>\n",
       "      <td>0.008497</td>\n",
       "      <td>0.020408</td>\n",
       "      <td>0</td>\n",
       "      <td>0</td>\n",
       "      <td>0.0</td>\n",
       "      <td>0.04</td>\n",
       "      <td>1</td>\n",
       "      <td>...</td>\n",
       "      <td>0.509934</td>\n",
       "      <td>0</td>\n",
       "      <td>1</td>\n",
       "      <td>0.035714</td>\n",
       "      <td>0.002360</td>\n",
       "      <td>0.0</td>\n",
       "      <td>0.000266</td>\n",
       "      <td>0</td>\n",
       "      <td>1</td>\n",
       "      <td>0</td>\n",
       "    </tr>\n",
       "    <tr>\n",
       "      <th>4</th>\n",
       "      <td>1</td>\n",
       "      <td>0.104575</td>\n",
       "      <td>1</td>\n",
       "      <td>0.012867</td>\n",
       "      <td>0.040816</td>\n",
       "      <td>0</td>\n",
       "      <td>0</td>\n",
       "      <td>0.0</td>\n",
       "      <td>0.20</td>\n",
       "      <td>1</td>\n",
       "      <td>...</td>\n",
       "      <td>0.430464</td>\n",
       "      <td>0</td>\n",
       "      <td>1</td>\n",
       "      <td>0.071429</td>\n",
       "      <td>0.002493</td>\n",
       "      <td>0.0</td>\n",
       "      <td>0.000266</td>\n",
       "      <td>0</td>\n",
       "      <td>1</td>\n",
       "      <td>0</td>\n",
       "    </tr>\n",
       "    <tr>\n",
       "      <th>5</th>\n",
       "      <td>1</td>\n",
       "      <td>0.196078</td>\n",
       "      <td>1</td>\n",
       "      <td>0.006615</td>\n",
       "      <td>0.265306</td>\n",
       "      <td>1</td>\n",
       "      <td>0</td>\n",
       "      <td>0.0</td>\n",
       "      <td>0.36</td>\n",
       "      <td>0</td>\n",
       "      <td>...</td>\n",
       "      <td>0.476821</td>\n",
       "      <td>0</td>\n",
       "      <td>1</td>\n",
       "      <td>0.178571</td>\n",
       "      <td>0.014052</td>\n",
       "      <td>0.0</td>\n",
       "      <td>0.000266</td>\n",
       "      <td>0</td>\n",
       "      <td>0</td>\n",
       "      <td>1</td>\n",
       "    </tr>\n",
       "    <tr>\n",
       "      <th>6</th>\n",
       "      <td>0</td>\n",
       "      <td>0.138889</td>\n",
       "      <td>1</td>\n",
       "      <td>0.007933</td>\n",
       "      <td>0.244898</td>\n",
       "      <td>1</td>\n",
       "      <td>0</td>\n",
       "      <td>0.0</td>\n",
       "      <td>0.00</td>\n",
       "      <td>0</td>\n",
       "      <td>...</td>\n",
       "      <td>0.466887</td>\n",
       "      <td>0</td>\n",
       "      <td>1</td>\n",
       "      <td>0.071429</td>\n",
       "      <td>0.004615</td>\n",
       "      <td>0.0</td>\n",
       "      <td>0.000266</td>\n",
       "      <td>0</td>\n",
       "      <td>0</td>\n",
       "      <td>1</td>\n",
       "    </tr>\n",
       "    <tr>\n",
       "      <th>7</th>\n",
       "      <td>1</td>\n",
       "      <td>0.147059</td>\n",
       "      <td>1</td>\n",
       "      <td>0.008815</td>\n",
       "      <td>0.040816</td>\n",
       "      <td>1</td>\n",
       "      <td>0</td>\n",
       "      <td>0.0</td>\n",
       "      <td>0.00</td>\n",
       "      <td>1</td>\n",
       "      <td>...</td>\n",
       "      <td>0.519868</td>\n",
       "      <td>0</td>\n",
       "      <td>1</td>\n",
       "      <td>0.107143</td>\n",
       "      <td>0.001641</td>\n",
       "      <td>0.0</td>\n",
       "      <td>0.000266</td>\n",
       "      <td>0</td>\n",
       "      <td>0</td>\n",
       "      <td>1</td>\n",
       "    </tr>\n",
       "    <tr>\n",
       "      <th>8</th>\n",
       "      <td>1</td>\n",
       "      <td>0.009804</td>\n",
       "      <td>1</td>\n",
       "      <td>0.004436</td>\n",
       "      <td>0.081633</td>\n",
       "      <td>0</td>\n",
       "      <td>0</td>\n",
       "      <td>0.0</td>\n",
       "      <td>0.08</td>\n",
       "      <td>1</td>\n",
       "      <td>...</td>\n",
       "      <td>0.493377</td>\n",
       "      <td>0</td>\n",
       "      <td>1</td>\n",
       "      <td>0.071429</td>\n",
       "      <td>0.002165</td>\n",
       "      <td>0.0</td>\n",
       "      <td>0.000266</td>\n",
       "      <td>0</td>\n",
       "      <td>1</td>\n",
       "      <td>0</td>\n",
       "    </tr>\n",
       "    <tr>\n",
       "      <th>9</th>\n",
       "      <td>0</td>\n",
       "      <td>0.044118</td>\n",
       "      <td>1</td>\n",
       "      <td>0.009133</td>\n",
       "      <td>0.020408</td>\n",
       "      <td>1</td>\n",
       "      <td>0</td>\n",
       "      <td>0.0</td>\n",
       "      <td>0.04</td>\n",
       "      <td>0</td>\n",
       "      <td>...</td>\n",
       "      <td>0.311258</td>\n",
       "      <td>0</td>\n",
       "      <td>1</td>\n",
       "      <td>0.071429</td>\n",
       "      <td>0.002358</td>\n",
       "      <td>0.0</td>\n",
       "      <td>0.000266</td>\n",
       "      <td>0</td>\n",
       "      <td>0</td>\n",
       "      <td>1</td>\n",
       "    </tr>\n",
       "  </tbody>\n",
       "</table>\n",
       "<p>10 rows × 45 columns</p>\n",
       "</div>"
      ],
      "text/plain": [
       "   target   AcctAge  DDA    DDABal    Checks  DirDep  NSF  NSFAmt  Teller  \\\n",
       "0       1  0.000000    1  0.004282  0.000000       0    0     0.0    0.00   \n",
       "1       0  0.006536    1  0.009903  0.020408       1    0     0.0    0.00   \n",
       "2       1  0.062092    0  0.002778  0.000000       0    0     0.0    0.00   \n",
       "3       0  0.003268    1  0.008497  0.020408       0    0     0.0    0.04   \n",
       "4       1  0.104575    1  0.012867  0.040816       0    0     0.0    0.20   \n",
       "5       1  0.196078    1  0.006615  0.265306       1    0     0.0    0.36   \n",
       "6       0  0.138889    1  0.007933  0.244898       1    0     0.0    0.00   \n",
       "7       1  0.147059    1  0.008815  0.040816       1    0     0.0    0.00   \n",
       "8       1  0.009804    1  0.004436  0.081633       0    0     0.0    0.08   \n",
       "9       0  0.044118    1  0.009133  0.020408       1    0     0.0    0.04   \n",
       "\n",
       "   Sav  ...   CRScore  Moved  InArea       Dep    DepAmt  Inv    InvBal  \\\n",
       "0    1  ...  0.589404      0       1  0.071429  0.002413  0.0  0.000266   \n",
       "1    0  ...  0.516556      0       1  0.035714  0.000922  0.0  0.000266   \n",
       "2    0  ...  0.403974      0       1  0.000000  0.000000  0.0  0.000266   \n",
       "3    1  ...  0.509934      0       1  0.035714  0.002360  0.0  0.000266   \n",
       "4    1  ...  0.430464      0       1  0.071429  0.002493  0.0  0.000266   \n",
       "5    0  ...  0.476821      0       1  0.178571  0.014052  0.0  0.000266   \n",
       "6    0  ...  0.466887      0       1  0.071429  0.004615  0.0  0.000266   \n",
       "7    1  ...  0.519868      0       1  0.107143  0.001641  0.0  0.000266   \n",
       "8    1  ...  0.493377      0       1  0.071429  0.002165  0.0  0.000266   \n",
       "9    0  ...  0.311258      0       1  0.071429  0.002358  0.0  0.000266   \n",
       "\n",
       "   Res_R  Res_S  Res_U  \n",
       "0      1      0      0  \n",
       "1      1      0      0  \n",
       "2      0      1      0  \n",
       "3      0      1      0  \n",
       "4      0      1      0  \n",
       "5      0      0      1  \n",
       "6      0      0      1  \n",
       "7      0      0      1  \n",
       "8      0      1      0  \n",
       "9      0      0      1  \n",
       "\n",
       "[10 rows x 45 columns]"
      ]
     },
     "execution_count": 2,
     "metadata": {},
     "output_type": "execute_result"
    }
   ],
   "source": [
    "df_encoded_norm = pd.read_csv('ISM647_ML1_data_encoded.csv')\n",
    "\n",
    "df_encoded_norm.head(10)"
   ]
  },
  {
   "cell_type": "markdown",
   "metadata": {},
   "source": [
    "## Create train, test, and validate data sets\n",
    "<p>\n",
    "80%, 20% split for Train and Test"
   ]
  },
  {
   "cell_type": "code",
   "execution_count": 3,
   "metadata": {},
   "outputs": [
    {
     "name": "stdout",
     "output_type": "stream",
     "text": [
      "16701 :training examples\n",
      "4176 :test examples\n"
     ]
    },
    {
     "name": "stderr",
     "output_type": "stream",
     "text": [
      "c:\\Users\\nlofl\\AppData\\Local\\Programs\\Python\\Python311\\Lib\\site-packages\\numpy\\core\\fromnumeric.py:59: FutureWarning: 'DataFrame.swapaxes' is deprecated and will be removed in a future version. Please use 'DataFrame.transpose' instead.\n",
      "  return bound(*args, **kwds)\n"
     ]
    }
   ],
   "source": [
    "train, test = np.split(df_encoded_norm.sample(frac=1), [int(0.8*len(df_encoded_norm))])\n",
    "\n",
    "print(len(train), ':training examples')\n",
    "print(len(test), ':test examples')"
   ]
  },
  {
   "cell_type": "markdown",
   "metadata": {},
   "source": [
    "Check for balance within the target features of the data set by comparing the categorical outcomes."
   ]
  },
  {
   "cell_type": "code",
   "execution_count": 4,
   "metadata": {},
   "outputs": [
    {
     "data": {
      "text/plain": [
       "target\n",
       "0    13373\n",
       "1     7504\n",
       "Name: count, dtype: int64"
      ]
     },
     "execution_count": 4,
     "metadata": {},
     "output_type": "execute_result"
    }
   ],
   "source": [
    "# check for imbalanced data\n",
    "df_encoded_norm['target'].value_counts()"
   ]
  },
  {
   "cell_type": "markdown",
   "metadata": {},
   "source": [
    "Address imbalanced training data using the SMOTE method. (Synthetic Model Oversampling Technique)"
   ]
  },
  {
   "cell_type": "code",
   "execution_count": 5,
   "metadata": {},
   "outputs": [
    {
     "name": "stdout",
     "output_type": "stream",
     "text": [
      "(21394, 44)\n",
      "(21394,)\n"
     ]
    }
   ],
   "source": [
    "# address imbalance in train data using SMOTE method\n",
    "from imblearn.over_sampling import SMOTE\n",
    "\n",
    "smote = SMOTE(sampling_strategy='minority')\n",
    "train_smote = train.drop('target', axis=1)\n",
    "train_target = train['target']\n",
    "train_smote, train_target = smote.fit_resample(train_smote, train_target)\n",
    "\n",
    "print(train_smote.shape)\n",
    "print(train_target.shape)"
   ]
  },
  {
   "cell_type": "markdown",
   "metadata": {},
   "source": [
    "## Train a Random Forest model\n",
    "<p>\n",
    "Initialize and train the model."
   ]
  },
  {
   "cell_type": "code",
   "execution_count": 6,
   "metadata": {},
   "outputs": [],
   "source": [
    "from sklearn.ensemble import RandomForestClassifier\n",
    "from sklearn.metrics import accuracy_score\n",
    "from sklearn.model_selection import RandomizedSearchCV\n",
    "from scipy.stats import randint, uniform\n",
    "\n",
    "# initialize the random forest tree model\n",
    "rfm = RandomForestClassifier(random_state=42)\n"
   ]
  },
  {
   "cell_type": "markdown",
   "metadata": {},
   "source": [
    "Iterate through training to find the best parameters for the decision tree model using random tuning of hyperparameters. (aka parameters outside the model and/or data set)"
   ]
  },
  {
   "cell_type": "code",
   "execution_count": 7,
   "metadata": {},
   "outputs": [
    {
     "name": "stdout",
     "output_type": "stream",
     "text": [
      "Best parameters: {'bootstrap': False, 'criterion': 'gini', 'max_depth': 19, 'max_leaf_nodes': 30, 'min_impurity_decrease': 0.001083765148029836, 'min_samples_leaf': 9, 'min_samples_split': 13, 'n_estimators': 364}\n",
      "Best cross-validation accuracy: 0.73\n"
     ]
    }
   ],
   "source": [
    "# estblish the hyperparameters to tune {LARGE MODEL (>10k) BELOW}\n",
    "param_dist = {\n",
    "    'n_estimators': randint(100, 1000),  # Number of trees in the forest\n",
    "    'max_depth': randint(3, 20),  # Maximum depth of each tree\n",
    "    'min_samples_split': randint(2, 20),  # Minimum number of samples required to split an internal node\n",
    "    'min_samples_leaf': randint(1, 20),  # Minimum number of samples required to be at a leaf node\n",
    "    'bootstrap': [True, False],  # Whether bootstrap samples are used when building trees\n",
    "    'criterion': ['gini', 'entropy'],  # The function to measure the quality of a split\n",
    "    'max_leaf_nodes': [None, 10, 20, 30, 40, 50],  # Grow trees with max_leaf_nodes in best-first fashion if set\n",
    "    'min_impurity_decrease': uniform(0, 0.1)  # A node will be split if this split induces a decrease of the impurity greater than or equal to this value.\n",
    "}\n",
    "\n",
    "# tune the parameters of the model using RandomizedSearchCV\n",
    "random_search = RandomizedSearchCV(estimator=rfm, param_distributions=param_dist, n_iter=100, cv=5, scoring='accuracy', n_jobs=-1, random_state=42)\n",
    "random_search.fit(train_smote, train_target)\n",
    "\n",
    "# print the best parameters and best cross-validation accuracy\n",
    "print(f\"Best parameters: {random_search.best_params_}\")\n",
    "print(f\"Best cross-validation accuracy: {random_search.best_score_:.2f}\")\n"
   ]
  },
  {
   "cell_type": "markdown",
   "metadata": {},
   "source": [
    "## Initialize the Training Model Using the Best Parameters\n",
    "<p>\n",
    "Initilaize and train the model using the best parameters found above."
   ]
  },
  {
   "cell_type": "code",
   "execution_count": 8,
   "metadata": {},
   "outputs": [
    {
     "data": {
      "text/html": [
       "<style>#sk-container-id-1 {color: black;}#sk-container-id-1 pre{padding: 0;}#sk-container-id-1 div.sk-toggleable {background-color: white;}#sk-container-id-1 label.sk-toggleable__label {cursor: pointer;display: block;width: 100%;margin-bottom: 0;padding: 0.3em;box-sizing: border-box;text-align: center;}#sk-container-id-1 label.sk-toggleable__label-arrow:before {content: \"▸\";float: left;margin-right: 0.25em;color: #696969;}#sk-container-id-1 label.sk-toggleable__label-arrow:hover:before {color: black;}#sk-container-id-1 div.sk-estimator:hover label.sk-toggleable__label-arrow:before {color: black;}#sk-container-id-1 div.sk-toggleable__content {max-height: 0;max-width: 0;overflow: hidden;text-align: left;background-color: #f0f8ff;}#sk-container-id-1 div.sk-toggleable__content pre {margin: 0.2em;color: black;border-radius: 0.25em;background-color: #f0f8ff;}#sk-container-id-1 input.sk-toggleable__control:checked~div.sk-toggleable__content {max-height: 200px;max-width: 100%;overflow: auto;}#sk-container-id-1 input.sk-toggleable__control:checked~label.sk-toggleable__label-arrow:before {content: \"▾\";}#sk-container-id-1 div.sk-estimator input.sk-toggleable__control:checked~label.sk-toggleable__label {background-color: #d4ebff;}#sk-container-id-1 div.sk-label input.sk-toggleable__control:checked~label.sk-toggleable__label {background-color: #d4ebff;}#sk-container-id-1 input.sk-hidden--visually {border: 0;clip: rect(1px 1px 1px 1px);clip: rect(1px, 1px, 1px, 1px);height: 1px;margin: -1px;overflow: hidden;padding: 0;position: absolute;width: 1px;}#sk-container-id-1 div.sk-estimator {font-family: monospace;background-color: #f0f8ff;border: 1px dotted black;border-radius: 0.25em;box-sizing: border-box;margin-bottom: 0.5em;}#sk-container-id-1 div.sk-estimator:hover {background-color: #d4ebff;}#sk-container-id-1 div.sk-parallel-item::after {content: \"\";width: 100%;border-bottom: 1px solid gray;flex-grow: 1;}#sk-container-id-1 div.sk-label:hover label.sk-toggleable__label {background-color: #d4ebff;}#sk-container-id-1 div.sk-serial::before {content: \"\";position: absolute;border-left: 1px solid gray;box-sizing: border-box;top: 0;bottom: 0;left: 50%;z-index: 0;}#sk-container-id-1 div.sk-serial {display: flex;flex-direction: column;align-items: center;background-color: white;padding-right: 0.2em;padding-left: 0.2em;position: relative;}#sk-container-id-1 div.sk-item {position: relative;z-index: 1;}#sk-container-id-1 div.sk-parallel {display: flex;align-items: stretch;justify-content: center;background-color: white;position: relative;}#sk-container-id-1 div.sk-item::before, #sk-container-id-1 div.sk-parallel-item::before {content: \"\";position: absolute;border-left: 1px solid gray;box-sizing: border-box;top: 0;bottom: 0;left: 50%;z-index: -1;}#sk-container-id-1 div.sk-parallel-item {display: flex;flex-direction: column;z-index: 1;position: relative;background-color: white;}#sk-container-id-1 div.sk-parallel-item:first-child::after {align-self: flex-end;width: 50%;}#sk-container-id-1 div.sk-parallel-item:last-child::after {align-self: flex-start;width: 50%;}#sk-container-id-1 div.sk-parallel-item:only-child::after {width: 0;}#sk-container-id-1 div.sk-dashed-wrapped {border: 1px dashed gray;margin: 0 0.4em 0.5em 0.4em;box-sizing: border-box;padding-bottom: 0.4em;background-color: white;}#sk-container-id-1 div.sk-label label {font-family: monospace;font-weight: bold;display: inline-block;line-height: 1.2em;}#sk-container-id-1 div.sk-label-container {text-align: center;}#sk-container-id-1 div.sk-container {/* jupyter's `normalize.less` sets `[hidden] { display: none; }` but bootstrap.min.css set `[hidden] { display: none !important; }` so we also need the `!important` here to be able to override the default hidden behavior on the sphinx rendered scikit-learn.org. See: https://github.com/scikit-learn/scikit-learn/issues/21755 */display: inline-block !important;position: relative;}#sk-container-id-1 div.sk-text-repr-fallback {display: none;}</style><div id=\"sk-container-id-1\" class=\"sk-top-container\"><div class=\"sk-text-repr-fallback\"><pre>RandomForestClassifier(bootstrap=False, max_depth=19, max_leaf_nodes=30,\n",
       "                       min_impurity_decrease=0.001083765148029836,\n",
       "                       min_samples_leaf=9, min_samples_split=13,\n",
       "                       n_estimators=364, random_state=42)</pre><b>In a Jupyter environment, please rerun this cell to show the HTML representation or trust the notebook. <br />On GitHub, the HTML representation is unable to render, please try loading this page with nbviewer.org.</b></div><div class=\"sk-container\" hidden><div class=\"sk-item\"><div class=\"sk-estimator sk-toggleable\"><input class=\"sk-toggleable__control sk-hidden--visually\" id=\"sk-estimator-id-1\" type=\"checkbox\" checked><label for=\"sk-estimator-id-1\" class=\"sk-toggleable__label sk-toggleable__label-arrow\">RandomForestClassifier</label><div class=\"sk-toggleable__content\"><pre>RandomForestClassifier(bootstrap=False, max_depth=19, max_leaf_nodes=30,\n",
       "                       min_impurity_decrease=0.001083765148029836,\n",
       "                       min_samples_leaf=9, min_samples_split=13,\n",
       "                       n_estimators=364, random_state=42)</pre></div></div></div></div></div>"
      ],
      "text/plain": [
       "RandomForestClassifier(bootstrap=False, max_depth=19, max_leaf_nodes=30,\n",
       "                       min_impurity_decrease=0.001083765148029836,\n",
       "                       min_samples_leaf=9, min_samples_split=13,\n",
       "                       n_estimators=364, random_state=42)"
      ]
     },
     "execution_count": 8,
     "metadata": {},
     "output_type": "execute_result"
    }
   ],
   "source": [
    "# initialize the random forest tree model using the best parameters found in the previous step\n",
    "rfm_best = RandomForestClassifier(n_estimators = random_search.best_params_['n_estimators'],\n",
    "                                max_depth = random_search.best_params_['max_depth'],\n",
    "                                min_samples_split = random_search.best_params_['min_samples_split'],\n",
    "                                min_samples_leaf = random_search.best_params_['min_samples_leaf'],\n",
    "                                bootstrap = random_search.best_params_['bootstrap'],\n",
    "                                criterion = random_search.best_params_['criterion'],\n",
    "                                max_leaf_nodes = random_search.best_params_['max_leaf_nodes'],\n",
    "                                min_impurity_decrease = random_search.best_params_['min_impurity_decrease'],\n",
    "                                random_state=42)\n",
    "\n",
    "# fit the best parameter model to the training data\n",
    "rfm_best.fit(train_smote, train_target)"
   ]
  },
  {
   "cell_type": "markdown",
   "metadata": {},
   "source": [
    "## Test Model Against Test Data Set\n",
    "<p>\n",
    "Use model to predict test target features, then evaluate versus the actual target features in the test data set."
   ]
  },
  {
   "cell_type": "code",
   "execution_count": 9,
   "metadata": {},
   "outputs": [
    {
     "name": "stdout",
     "output_type": "stream",
     "text": [
      "(4176, 44) test shape\n",
      "(4176,) test target shape\n"
     ]
    }
   ],
   "source": [
    "# evaluate the model on the test set\n",
    "test_target = test.pop('target')\n",
    "\n",
    "print(test.shape, 'test shape')\n",
    "print(test_target.shape, 'test target shape')"
   ]
  },
  {
   "cell_type": "code",
   "execution_count": 10,
   "metadata": {},
   "outputs": [
    {
     "name": "stdout",
     "output_type": "stream",
     "text": [
      "Training accuracy: 0.7006704980842912\n"
     ]
    }
   ],
   "source": [
    "# predict the target for the test data\n",
    "test_predictions = rfm_best.predict(test)\n",
    "\n",
    "# calculate the accuracy of the model\n",
    "test_accuracy = accuracy_score(test_target, test_predictions)\n",
    "\n",
    "print('Training accuracy:', test_accuracy)"
   ]
  },
  {
   "cell_type": "markdown",
   "metadata": {},
   "source": [
    "## Measurement of Values for Each of the Features Used\n",
    "<p>\n",
    "Ranked from most important to least."
   ]
  },
  {
   "cell_type": "code",
   "execution_count": 11,
   "metadata": {},
   "outputs": [
    {
     "data": {
      "image/png": "[encoded data removed]",
      "text/plain": [
       "<Figure size 1000x500 with 1 Axes>"
      ]
     },
     "metadata": {},
     "output_type": "display_data"
    }
   ],
   "source": [
    "# plot the feature importances\n",
    "importances = rfm_best.feature_importances_\n",
    "indices = np.argsort(importances)[::-1]\n",
    "\n",
    "plt.figure(figsize=(10, 5))\n",
    "plt.title(\"Feature importances\")\n",
    "plt.bar(range(train_smote.shape[1]), importances[indices], color=\"r\", align=\"center\")\n",
    "plt.xticks(range(train_smote.shape[1]), train.columns[indices], rotation=90)\n",
    "plt.xlim([-1, train_smote.shape[1]])\n",
    "plt.show()\n"
   ]
  },
  {
   "cell_type": "markdown",
   "metadata": {},
   "source": [
    "## Output Confusion Matrix and Classification Report\n",
    "<p>\n",
    "Metrics for performance of model predictions vs test set."
   ]
  },
  {
   "cell_type": "code",
   "execution_count": 12,
   "metadata": {},
   "outputs": [
    {
     "data": {
      "image/png": "[encoded data removed]",
      "text/plain": [
       "<Figure size 800x600 with 1 Axes>"
      ]
     },
     "metadata": {},
     "output_type": "display_data"
    }
   ],
   "source": [
    "# plot confusion matrix\n",
    "from sklearn.metrics import confusion_matrix\n",
    "import seaborn as sns\n",
    "\n",
    "# create confusion matrix\n",
    "conf_matrix = confusion_matrix(test_target, test_predictions)\n",
    "\n",
    "# plot the confusion matrix\n",
    "plt.figure(figsize=(8, 6))\n",
    "sns.heatmap(conf_matrix, annot=True, fmt='g', cmap='Blues', cbar=False)\n",
    "plt.xlabel('Predicted')\n",
    "plt.ylabel('Actual')\n",
    "plt.title('Confusion Matrix')\n",
    "plt.show()"
   ]
  },
  {
   "cell_type": "code",
   "execution_count": 13,
   "metadata": {},
   "outputs": [
    {
     "name": "stdout",
     "output_type": "stream",
     "text": [
      "              precision    recall  f1-score   support\n",
      "\n",
      "           0       0.83      0.67      0.74      2676\n",
      "           1       0.56      0.75      0.64      1500\n",
      "\n",
      "    accuracy                           0.70      4176\n",
      "   macro avg       0.69      0.71      0.69      4176\n",
      "weighted avg       0.73      0.70      0.71      4176\n",
      "\n"
     ]
    }
   ],
   "source": [
    "# create a classification report\n",
    "from sklearn.metrics import classification_report\n",
    "\n",
    "print(classification_report(test_target, test_predictions))"
   ]
  }
 ],
 "metadata": {
  "kernelspec": {
   "display_name": "Python 3",
   "language": "python",
   "name": "python3"
  },
  "language_info": {
   "codemirror_mode": {
    "name": "ipython",
    "version": 3
   },
   "file_extension": ".py",
   "mimetype": "text/x-python",
   "name": "python",
   "nbconvert_exporter": "python",
   "pygments_lexer": "ipython3",
   "version": "3.11.6"
  }
 },
 "nbformat": 4,
 "nbformat_minor": 2
}
