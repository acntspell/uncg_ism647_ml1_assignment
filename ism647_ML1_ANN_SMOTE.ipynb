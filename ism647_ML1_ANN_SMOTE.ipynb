{
 "cells": [
  {
   "cell_type": "code",
   "execution_count": 1,
   "metadata": {},
   "outputs": [],
   "source": [
    "import pandas as pd\n",
    "import numpy as np\n",
    "import tensorflow as tf\n",
    "\n",
    "import matplotlib.pyplot as plt"
   ]
  },
  {
   "cell_type": "markdown",
   "metadata": {},
   "source": [
    "## Import Data\n",
    "<p>\n",
    "Import data from csv and print head of df\n",
    "<p>\n",
    "Data dictionary in repo."
   ]
  },
  {
   "cell_type": "code",
   "execution_count": 2,
   "metadata": {},
   "outputs": [
    {
     "data": {
      "text/html": [
       "<div>\n",
       "<style scoped>\n",
       "    .dataframe tbody tr th:only-of-type {\n",
       "        vertical-align: middle;\n",
       "    }\n",
       "\n",
       "    .dataframe tbody tr th {\n",
       "        vertical-align: top;\n",
       "    }\n",
       "\n",
       "    .dataframe thead th {\n",
       "        text-align: right;\n",
       "    }\n",
       "</style>\n",
       "<table border=\"1\" class=\"dataframe\">\n",
       "  <thead>\n",
       "    <tr style=\"text-align: right;\">\n",
       "      <th></th>\n",
       "      <th>target</th>\n",
       "      <th>AcctAge</th>\n",
       "      <th>DDA</th>\n",
       "      <th>DDABal</th>\n",
       "      <th>Checks</th>\n",
       "      <th>DirDep</th>\n",
       "      <th>NSF</th>\n",
       "      <th>NSFAmt</th>\n",
       "      <th>Teller</th>\n",
       "      <th>Sav</th>\n",
       "      <th>...</th>\n",
       "      <th>CRScore</th>\n",
       "      <th>Moved</th>\n",
       "      <th>InArea</th>\n",
       "      <th>Dep</th>\n",
       "      <th>DepAmt</th>\n",
       "      <th>Inv</th>\n",
       "      <th>InvBal</th>\n",
       "      <th>Res_R</th>\n",
       "      <th>Res_S</th>\n",
       "      <th>Res_U</th>\n",
       "    </tr>\n",
       "  </thead>\n",
       "  <tbody>\n",
       "    <tr>\n",
       "      <th>0</th>\n",
       "      <td>1</td>\n",
       "      <td>0.000000</td>\n",
       "      <td>1</td>\n",
       "      <td>0.004282</td>\n",
       "      <td>0.000000</td>\n",
       "      <td>0</td>\n",
       "      <td>0</td>\n",
       "      <td>0.0</td>\n",
       "      <td>0.00</td>\n",
       "      <td>1</td>\n",
       "      <td>...</td>\n",
       "      <td>0.589404</td>\n",
       "      <td>0</td>\n",
       "      <td>1</td>\n",
       "      <td>0.071429</td>\n",
       "      <td>0.002413</td>\n",
       "      <td>0.0</td>\n",
       "      <td>0.000266</td>\n",
       "      <td>1</td>\n",
       "      <td>0</td>\n",
       "      <td>0</td>\n",
       "    </tr>\n",
       "    <tr>\n",
       "      <th>1</th>\n",
       "      <td>0</td>\n",
       "      <td>0.006536</td>\n",
       "      <td>1</td>\n",
       "      <td>0.009903</td>\n",
       "      <td>0.020408</td>\n",
       "      <td>1</td>\n",
       "      <td>0</td>\n",
       "      <td>0.0</td>\n",
       "      <td>0.00</td>\n",
       "      <td>0</td>\n",
       "      <td>...</td>\n",
       "      <td>0.516556</td>\n",
       "      <td>0</td>\n",
       "      <td>1</td>\n",
       "      <td>0.035714</td>\n",
       "      <td>0.000922</td>\n",
       "      <td>0.0</td>\n",
       "      <td>0.000266</td>\n",
       "      <td>1</td>\n",
       "      <td>0</td>\n",
       "      <td>0</td>\n",
       "    </tr>\n",
       "    <tr>\n",
       "      <th>2</th>\n",
       "      <td>1</td>\n",
       "      <td>0.062092</td>\n",
       "      <td>0</td>\n",
       "      <td>0.002778</td>\n",
       "      <td>0.000000</td>\n",
       "      <td>0</td>\n",
       "      <td>0</td>\n",
       "      <td>0.0</td>\n",
       "      <td>0.00</td>\n",
       "      <td>0</td>\n",
       "      <td>...</td>\n",
       "      <td>0.403974</td>\n",
       "      <td>0</td>\n",
       "      <td>1</td>\n",
       "      <td>0.000000</td>\n",
       "      <td>0.000000</td>\n",
       "      <td>0.0</td>\n",
       "      <td>0.000266</td>\n",
       "      <td>0</td>\n",
       "      <td>1</td>\n",
       "      <td>0</td>\n",
       "    </tr>\n",
       "    <tr>\n",
       "      <th>3</th>\n",
       "      <td>0</td>\n",
       "      <td>0.003268</td>\n",
       "      <td>1</td>\n",
       "      <td>0.008497</td>\n",
       "      <td>0.020408</td>\n",
       "      <td>0</td>\n",
       "      <td>0</td>\n",
       "      <td>0.0</td>\n",
       "      <td>0.04</td>\n",
       "      <td>1</td>\n",
       "      <td>...</td>\n",
       "      <td>0.509934</td>\n",
       "      <td>0</td>\n",
       "      <td>1</td>\n",
       "      <td>0.035714</td>\n",
       "      <td>0.002360</td>\n",
       "      <td>0.0</td>\n",
       "      <td>0.000266</td>\n",
       "      <td>0</td>\n",
       "      <td>1</td>\n",
       "      <td>0</td>\n",
       "    </tr>\n",
       "    <tr>\n",
       "      <th>4</th>\n",
       "      <td>1</td>\n",
       "      <td>0.104575</td>\n",
       "      <td>1</td>\n",
       "      <td>0.012867</td>\n",
       "      <td>0.040816</td>\n",
       "      <td>0</td>\n",
       "      <td>0</td>\n",
       "      <td>0.0</td>\n",
       "      <td>0.20</td>\n",
       "      <td>1</td>\n",
       "      <td>...</td>\n",
       "      <td>0.430464</td>\n",
       "      <td>0</td>\n",
       "      <td>1</td>\n",
       "      <td>0.071429</td>\n",
       "      <td>0.002493</td>\n",
       "      <td>0.0</td>\n",
       "      <td>0.000266</td>\n",
       "      <td>0</td>\n",
       "      <td>1</td>\n",
       "      <td>0</td>\n",
       "    </tr>\n",
       "    <tr>\n",
       "      <th>5</th>\n",
       "      <td>1</td>\n",
       "      <td>0.196078</td>\n",
       "      <td>1</td>\n",
       "      <td>0.006615</td>\n",
       "      <td>0.265306</td>\n",
       "      <td>1</td>\n",
       "      <td>0</td>\n",
       "      <td>0.0</td>\n",
       "      <td>0.36</td>\n",
       "      <td>0</td>\n",
       "      <td>...</td>\n",
       "      <td>0.476821</td>\n",
       "      <td>0</td>\n",
       "      <td>1</td>\n",
       "      <td>0.178571</td>\n",
       "      <td>0.014052</td>\n",
       "      <td>0.0</td>\n",
       "      <td>0.000266</td>\n",
       "      <td>0</td>\n",
       "      <td>0</td>\n",
       "      <td>1</td>\n",
       "    </tr>\n",
       "    <tr>\n",
       "      <th>6</th>\n",
       "      <td>0</td>\n",
       "      <td>0.138889</td>\n",
       "      <td>1</td>\n",
       "      <td>0.007933</td>\n",
       "      <td>0.244898</td>\n",
       "      <td>1</td>\n",
       "      <td>0</td>\n",
       "      <td>0.0</td>\n",
       "      <td>0.00</td>\n",
       "      <td>0</td>\n",
       "      <td>...</td>\n",
       "      <td>0.466887</td>\n",
       "      <td>0</td>\n",
       "      <td>1</td>\n",
       "      <td>0.071429</td>\n",
       "      <td>0.004615</td>\n",
       "      <td>0.0</td>\n",
       "      <td>0.000266</td>\n",
       "      <td>0</td>\n",
       "      <td>0</td>\n",
       "      <td>1</td>\n",
       "    </tr>\n",
       "    <tr>\n",
       "      <th>7</th>\n",
       "      <td>1</td>\n",
       "      <td>0.147059</td>\n",
       "      <td>1</td>\n",
       "      <td>0.008815</td>\n",
       "      <td>0.040816</td>\n",
       "      <td>1</td>\n",
       "      <td>0</td>\n",
       "      <td>0.0</td>\n",
       "      <td>0.00</td>\n",
       "      <td>1</td>\n",
       "      <td>...</td>\n",
       "      <td>0.519868</td>\n",
       "      <td>0</td>\n",
       "      <td>1</td>\n",
       "      <td>0.107143</td>\n",
       "      <td>0.001641</td>\n",
       "      <td>0.0</td>\n",
       "      <td>0.000266</td>\n",
       "      <td>0</td>\n",
       "      <td>0</td>\n",
       "      <td>1</td>\n",
       "    </tr>\n",
       "    <tr>\n",
       "      <th>8</th>\n",
       "      <td>1</td>\n",
       "      <td>0.009804</td>\n",
       "      <td>1</td>\n",
       "      <td>0.004436</td>\n",
       "      <td>0.081633</td>\n",
       "      <td>0</td>\n",
       "      <td>0</td>\n",
       "      <td>0.0</td>\n",
       "      <td>0.08</td>\n",
       "      <td>1</td>\n",
       "      <td>...</td>\n",
       "      <td>0.493377</td>\n",
       "      <td>0</td>\n",
       "      <td>1</td>\n",
       "      <td>0.071429</td>\n",
       "      <td>0.002165</td>\n",
       "      <td>0.0</td>\n",
       "      <td>0.000266</td>\n",
       "      <td>0</td>\n",
       "      <td>1</td>\n",
       "      <td>0</td>\n",
       "    </tr>\n",
       "    <tr>\n",
       "      <th>9</th>\n",
       "      <td>0</td>\n",
       "      <td>0.044118</td>\n",
       "      <td>1</td>\n",
       "      <td>0.009133</td>\n",
       "      <td>0.020408</td>\n",
       "      <td>1</td>\n",
       "      <td>0</td>\n",
       "      <td>0.0</td>\n",
       "      <td>0.04</td>\n",
       "      <td>0</td>\n",
       "      <td>...</td>\n",
       "      <td>0.311258</td>\n",
       "      <td>0</td>\n",
       "      <td>1</td>\n",
       "      <td>0.071429</td>\n",
       "      <td>0.002358</td>\n",
       "      <td>0.0</td>\n",
       "      <td>0.000266</td>\n",
       "      <td>0</td>\n",
       "      <td>0</td>\n",
       "      <td>1</td>\n",
       "    </tr>\n",
       "  </tbody>\n",
       "</table>\n",
       "<p>10 rows × 45 columns</p>\n",
       "</div>"
      ],
      "text/plain": [
       "   target   AcctAge  DDA    DDABal    Checks  DirDep  NSF  NSFAmt  Teller  \\\n",
       "0       1  0.000000    1  0.004282  0.000000       0    0     0.0    0.00   \n",
       "1       0  0.006536    1  0.009903  0.020408       1    0     0.0    0.00   \n",
       "2       1  0.062092    0  0.002778  0.000000       0    0     0.0    0.00   \n",
       "3       0  0.003268    1  0.008497  0.020408       0    0     0.0    0.04   \n",
       "4       1  0.104575    1  0.012867  0.040816       0    0     0.0    0.20   \n",
       "5       1  0.196078    1  0.006615  0.265306       1    0     0.0    0.36   \n",
       "6       0  0.138889    1  0.007933  0.244898       1    0     0.0    0.00   \n",
       "7       1  0.147059    1  0.008815  0.040816       1    0     0.0    0.00   \n",
       "8       1  0.009804    1  0.004436  0.081633       0    0     0.0    0.08   \n",
       "9       0  0.044118    1  0.009133  0.020408       1    0     0.0    0.04   \n",
       "\n",
       "   Sav  ...   CRScore  Moved  InArea       Dep    DepAmt  Inv    InvBal  \\\n",
       "0    1  ...  0.589404      0       1  0.071429  0.002413  0.0  0.000266   \n",
       "1    0  ...  0.516556      0       1  0.035714  0.000922  0.0  0.000266   \n",
       "2    0  ...  0.403974      0       1  0.000000  0.000000  0.0  0.000266   \n",
       "3    1  ...  0.509934      0       1  0.035714  0.002360  0.0  0.000266   \n",
       "4    1  ...  0.430464      0       1  0.071429  0.002493  0.0  0.000266   \n",
       "5    0  ...  0.476821      0       1  0.178571  0.014052  0.0  0.000266   \n",
       "6    0  ...  0.466887      0       1  0.071429  0.004615  0.0  0.000266   \n",
       "7    1  ...  0.519868      0       1  0.107143  0.001641  0.0  0.000266   \n",
       "8    1  ...  0.493377      0       1  0.071429  0.002165  0.0  0.000266   \n",
       "9    0  ...  0.311258      0       1  0.071429  0.002358  0.0  0.000266   \n",
       "\n",
       "   Res_R  Res_S  Res_U  \n",
       "0      1      0      0  \n",
       "1      1      0      0  \n",
       "2      0      1      0  \n",
       "3      0      1      0  \n",
       "4      0      1      0  \n",
       "5      0      0      1  \n",
       "6      0      0      1  \n",
       "7      0      0      1  \n",
       "8      0      1      0  \n",
       "9      0      0      1  \n",
       "\n",
       "[10 rows x 45 columns]"
      ]
     },
     "execution_count": 2,
     "metadata": {},
     "output_type": "execute_result"
    }
   ],
   "source": [
    "df_encoded_norm = pd.read_csv('ISM647_ML1_data_encoded.csv')\n",
    "\n",
    "df_encoded_norm.head(10)"
   ]
  },
  {
   "cell_type": "code",
   "execution_count": 3,
   "metadata": {},
   "outputs": [
    {
     "data": {
      "text/plain": [
       "target\n",
       "0    13373\n",
       "1     7504\n",
       "Name: count, dtype: int64"
      ]
     },
     "execution_count": 3,
     "metadata": {},
     "output_type": "execute_result"
    }
   ],
   "source": [
    "# check for imbalanced data\n",
    "df_encoded_norm['target'].value_counts()"
   ]
  },
  {
   "cell_type": "markdown",
   "metadata": {},
   "source": [
    "## Create train, test, and validate data sets\n",
    "<p>\n",
    "70%, 20%, 10% split for Train, Validate, and Test"
   ]
  },
  {
   "cell_type": "code",
   "execution_count": 4,
   "metadata": {},
   "outputs": [
    {
     "name": "stderr",
     "output_type": "stream",
     "text": [
      "c:\\Users\\nlofl\\AppData\\Local\\Programs\\Python\\Python311\\Lib\\site-packages\\numpy\\core\\fromnumeric.py:59: FutureWarning: 'DataFrame.swapaxes' is deprecated and will be removed in a future version. Please use 'DataFrame.transpose' instead.\n",
      "  return bound(*args, **kwds)\n"
     ]
    }
   ],
   "source": [
    "train, val, test = np.split(df_encoded_norm.sample(frac=1), [int(0.7*len(df_encoded_norm)), int(0.9*len(df_encoded_norm))])"
   ]
  },
  {
   "cell_type": "code",
   "execution_count": 5,
   "metadata": {},
   "outputs": [
    {
     "name": "stdout",
     "output_type": "stream",
     "text": [
      "14613 training examples\n",
      "4176 validation examples\n",
      "2088 test examples\n"
     ]
    }
   ],
   "source": [
    "print(len(train), 'training examples')\n",
    "print(len(val), 'validation examples')\n",
    "print(len(test), 'test examples')"
   ]
  },
  {
   "cell_type": "markdown",
   "metadata": {},
   "source": [
    "## Address Imbalance in Training Data\n",
    "<p>\n",
    "Separate target from data set.\n",
    "<p>\n",
    "Address imbalance using the SMOTE method. (Synthetic Minority Oversample Technique)"
   ]
  },
  {
   "cell_type": "code",
   "execution_count": 6,
   "metadata": {},
   "outputs": [
    {
     "name": "stdout",
     "output_type": "stream",
     "text": [
      "(18858, 44)\n",
      "(18858,)\n"
     ]
    }
   ],
   "source": [
    "# address imbalance in train data using SMOTE method\n",
    "from imblearn.over_sampling import SMOTE\n",
    "\n",
    "smote = SMOTE(sampling_strategy='minority')\n",
    "train_smote = train.drop('target', axis=1)\n",
    "train_target = train['target']\n",
    "train_smote, train_target = smote.fit_resample(train_smote, train_target)\n",
    "\n",
    "print(train_smote.shape)\n",
    "print(train_target.shape)"
   ]
  },
  {
   "cell_type": "markdown",
   "metadata": {},
   "source": [
    "## Train a logistic regression model"
   ]
  },
  {
   "cell_type": "code",
   "execution_count": 9,
   "metadata": {},
   "outputs": [],
   "source": [
    "from tensorflow.keras import layers\n",
    "from tensorflow.keras import losses\n",
    "from keras.layers import Dense, Dropout\n",
    "\n",
    "# train the logistic regression model using keras\n",
    "model = tf.keras.Sequential()\n",
    "model.add(Dense(64, activation='relu', input_shape=(train_smote.shape[1],)))\n",
    "model.add(Dropout(0.2))\n",
    "model.add(Dense(64, activation='relu'))\n",
    "model.add(Dropout(0.2))\n",
    "model.add(Dense(1, activation='sigmoid'))"
   ]
  },
  {
   "cell_type": "code",
   "execution_count": 10,
   "metadata": {},
   "outputs": [],
   "source": [
    "# compile the model\n",
    "model.compile(\n",
    "    optimizer='adam',\n",
    "    loss='binary_crossentropy',\n",
    "    metrics=['accuracy']\n",
    ")\n",
    "\n",
    "# train the model\n",
    "history = model.fit(\n",
    "    train_smote, train_target,\n",
    "    validation_data=(val, val.pop('target')),\n",
    "    batch_size=32,\n",
    "    epochs=100,\n",
    "    verbose=0\n",
    ")"
   ]
  },
  {
   "cell_type": "code",
   "execution_count": 11,
   "metadata": {},
   "outputs": [
    {
     "data": {
      "image/png": "[encoded data removed]",
      "text/plain": [
       "<Figure size 640x480 with 1 Axes>"
      ]
     },
     "metadata": {},
     "output_type": "display_data"
    }
   ],
   "source": [
    "# plot the training and validation loss\n",
    "plt.plot(history.history['loss'], label='training loss')\n",
    "plt.plot(history.history['val_loss'], label='validation loss')\n",
    "plt.xlabel('Epoch')\n",
    "plt.ylabel('Loss')\n",
    "plt.legend()\n",
    "plt.show()\n"
   ]
  },
  {
   "cell_type": "code",
   "execution_count": 12,
   "metadata": {},
   "outputs": [
    {
     "data": {
      "image/png": "[encoded data removed]",
      "text/plain": [
       "<Figure size 640x480 with 1 Axes>"
      ]
     },
     "metadata": {},
     "output_type": "display_data"
    }
   ],
   "source": [
    "# plot the training and validation accuracy\n",
    "plt.plot(history.history['accuracy'], label='training accuracy')\n",
    "plt.plot(history.history['val_accuracy'], label='validation accuracy')\n",
    "plt.xlabel('Epoch')\n",
    "plt.ylabel('Accuracy')\n",
    "plt.legend()\n",
    "plt.show()\n"
   ]
  },
  {
   "cell_type": "code",
   "execution_count": 13,
   "metadata": {},
   "outputs": [
    {
     "name": "stdout",
     "output_type": "stream",
     "text": [
      "Test accuracy: 0.686\n"
     ]
    }
   ],
   "source": [
    "\n",
    "# evaluate the model on the test set\n",
    "test_target = test.pop('target')\n",
    "test_loss, test_accuracy = model.evaluate(test, test_target, verbose=0)\n",
    "\n",
    "print(f'Test accuracy: {test_accuracy:.3f}')\n"
   ]
  },
  {
   "cell_type": "markdown",
   "metadata": {},
   "source": [
    "## Create Confusion Matrix\n",
    "<p>\n",
    "Visual representation of performance of model predictions vs test values."
   ]
  },
  {
   "cell_type": "code",
   "execution_count": 14,
   "metadata": {},
   "outputs": [
    {
     "name": "stdout",
     "output_type": "stream",
     "text": [
      "\u001b[1m66/66\u001b[0m \u001b[32m━━━━━━━━━━━━━━━━━━━━\u001b[0m\u001b[37m\u001b[0m \u001b[1m0s\u001b[0m 696us/step\n"
     ]
    },
    {
     "data": {
      "image/png": "[encoded data removed]",
      "text/plain": [
       "<Figure size 800x600 with 1 Axes>"
      ]
     },
     "metadata": {},
     "output_type": "display_data"
    }
   ],
   "source": [
    "# plot confusion matrix\n",
    "from sklearn.metrics import confusion_matrix\n",
    "import seaborn as sns\n",
    "\n",
    "# predict the test set as binary output\n",
    "test_predictions = model.predict(test).round().astype(int)\n",
    "\n",
    "# create confusion matrix\n",
    "conf_matrix = confusion_matrix(test_target, test_predictions)\n",
    "\n",
    "# plot the confusion matrix\n",
    "plt.figure(figsize=(8, 6))\n",
    "sns.heatmap(conf_matrix, annot=True, fmt='g', cmap='Blues', cbar=False)\n",
    "plt.xlabel('Predicted')\n",
    "plt.ylabel('Actual')\n",
    "plt.title('Confusion Matrix')\n",
    "plt.show()\n"
   ]
  },
  {
   "cell_type": "markdown",
   "metadata": {},
   "source": [
    "## Create classification report\n",
    "<p>\n",
    "Describes performance vs the various outcomes predicted and the test set."
   ]
  },
  {
   "cell_type": "code",
   "execution_count": 15,
   "metadata": {},
   "outputs": [
    {
     "name": "stdout",
     "output_type": "stream",
     "text": [
      "              precision    recall  f1-score   support\n",
      "\n",
      "           0       0.78      0.69      0.73      1309\n",
      "           1       0.57      0.68      0.62       779\n",
      "\n",
      "    accuracy                           0.69      2088\n",
      "   macro avg       0.67      0.68      0.68      2088\n",
      "weighted avg       0.70      0.69      0.69      2088\n",
      "\n"
     ]
    }
   ],
   "source": [
    "# create a classification report\n",
    "from sklearn.metrics import classification_report\n",
    "\n",
    "print(classification_report(test_target, test_predictions))"
   ]
  }
 ],
 "metadata": {
  "kernelspec": {
   "display_name": "Python 3",
   "language": "python",
   "name": "python3"
  },
  "language_info": {
   "codemirror_mode": {
    "name": "ipython",
    "version": 3
   },
   "file_extension": ".py",
   "mimetype": "text/x-python",
   "name": "python",
   "nbconvert_exporter": "python",
   "pygments_lexer": "ipython3",
   "version": "3.11.6"
  }
 },
 "nbformat": 4,
 "nbformat_minor": 2
}
